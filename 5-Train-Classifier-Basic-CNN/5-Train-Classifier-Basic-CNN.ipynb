{
  "cells": [
    {
      "cell_type": "code",
      "execution_count": null,
      "metadata": {
        "id": "9BgqxdwYbXL2"
      },
      "outputs": [],
      "source": [
        "%matplotlib inline"
      ]
    },
    {
      "cell_type": "markdown",
      "metadata": {
        "id": "-xDcHNbhbXMD"
      },
      "source": [
        "# Entrenando a un Clasificador CNN básico\n",
        "\n",
        "Ha visto cómo definir redes neuronales, calcular pérdidas y hacer\n",
        "actualizaciones de los pesos de la red.\n",
        "\n",
        "Ahora podrías estar pensando,\n",
        "\n",
        "## ¿Qué pasa con los datos?\n",
        "\n",
        "Generalmente, cuando tiene que lidiar con datos de imagen, texto, audio o video,\n",
        "puede usar paquetes estándar de python que cargan datos en una matriz numpy.\n",
        "Entonces puedes convertir esta matriz en un ``torch.Tensor``.\n",
        "\n",
        "- Para imágenes, paquetes como Pillow, OpenCV son útiles\n",
        "- Para audio, paquetes como scipy y librosa\n",
        "- Para texto, carga basada en Python o Cython sin procesar, o NLTK y\n",
        "   SpaCy son útiles\n",
        "\n",
        "Específicamente para la visión, se ha creado un paquete llamado\n",
        "``torchvision``, que tiene cargadores de datos (dataloaders) para conjuntos de datos (datasets) comunes como\n",
        "ImageNet, CIFAR10, MNIST, etc. y transformadores de datos para imágenes, a saber, ``torchvision.datasets`` y ``torch.utils.data.DataLoader``.\n",
        "\n",
        "Esto proporciona una gran comodidad y evita escribir código repetitivo.\n",
        "\n",
        "Para este tutorial, utilizaremos el conjunto de datos CIFAR10.\n",
        "Tiene las clases: 'avión', 'automóvil', 'pájaro', 'gato', 'venado',\n",
        "'perro', 'rana', 'caballo', 'barco', 'camión'. Las imágenes en CIFAR-10 son de\n",
        "tamaño 3x32x32, es decir, imágenes en color de 3 canales de 32x32 píxeles de tamaño.\n",
        "\n",
        "![](assets/cifar10.png)\n",
        "\n",
        "\n",
        "## Pasos\n",
        "\n",
        "Realizaremos los siguientes pasos en orden:\n",
        "\n",
        "1. Cargue y normalice los conjuntos de datos de entrenamiento y prueba de CIFAR10 usando\n",
        "   ``torchvision``\n",
        "2. Definir una red neuronal convolucional\n",
        "3. Defina una función de pérdida\n",
        "4. Entrene a la red en los datos de entrenamiento\n",
        "5. Pruebe la red con los datos de prueba\n",
        "\n",
        "### 1. Cargar y normalizar CIFAR10\n",
        "\n",
        "Usando ``torchvision``, es extremadamente fácil cargar CIFAR10."
      ]
    },
    {
      "cell_type": "code",
      "execution_count": null,
      "metadata": {
        "id": "YwyR1_FGbXMM"
      },
      "outputs": [],
      "source": [
        "import torch\n",
        "import torchvision\n",
        "import torchvision.transforms as transforms"
      ]
    },
    {
      "cell_type": "markdown",
      "metadata": {
        "id": "U5VcV_hWbXMQ"
      },
      "source": [
        "La salida de los conjuntos de datos de torchvision son imágenes PILImage de rango [0, 1].\n",
        "Los transformamos a Tensores de rango normalizado [-1, 1]."
      ]
    },
    {
      "cell_type": "markdown",
      "metadata": {
        "id": "_03dMjdkbXMT"
      },
      "source": [
        "<div class=\"alert alert-info\"><h4>Nota</h4><p>Si se ejecuta en Windows y obtiene un BrokenPipeError, intente configurar\n",
        "     el num_worker de torch.utils.data.DataLoader() a 0.</p></div>"
      ]
    },
    {
      "cell_type": "code",
      "execution_count": null,
      "metadata": {
        "id": "L4u_n8LAbXMU"
      },
      "outputs": [],
      "source": [
        "transform = transforms.Compose(\n",
        "    [transforms.ToTensor(),\n",
        "     transforms.Normalize((0.5, 0.5, 0.5), (0.5, 0.5, 0.5))])\n",
        "\n",
        "batch_size = 4\n",
        "\n",
        "trainset = torchvision.datasets.CIFAR10(root='./data', train=True,\n",
        "                                        download=True, transform=transform)\n",
        "trainloader = torch.utils.data.DataLoader(trainset, batch_size=batch_size,\n",
        "                                          shuffle=True, num_workers=2)\n",
        "\n",
        "testset = torchvision.datasets.CIFAR10(root='./data', train=False,\n",
        "                                       download=True, transform=transform)\n",
        "testloader = torch.utils.data.DataLoader(testset, batch_size=batch_size,\n",
        "                                         shuffle=False, num_workers=2)\n",
        "\n",
        "classes = ('plane', 'car', 'bird', 'cat',\n",
        "           'deer', 'dog', 'frog', 'horse', 'ship', 'truck')"
      ]
    },
    {
      "cell_type": "markdown",
      "metadata": {
        "id": "oSMt3FEtbXMX"
      },
      "source": [
        "Vamos a mostrar algunas de las imágenes de entrenamiento, por diversión."
      ]
    },
    {
      "cell_type": "code",
      "execution_count": null,
      "metadata": {
        "id": "mR-MNg-BbXMZ"
      },
      "outputs": [],
      "source": [
        "import matplotlib.pyplot as plt\n",
        "import numpy as np\n",
        "\n",
        "# functions to show an image\n",
        "\n",
        "\n",
        "def imshow(img):\n",
        "    img = img / 2 + 0.5     # unnormalize\n",
        "    npimg = img.numpy()\n",
        "    plt.imshow(np.transpose(npimg, (1, 2, 0)))\n",
        "    plt.show()\n",
        "\n",
        "\n",
        "# get some random training images\n",
        "dataiter = iter(trainloader)\n",
        "images, labels = dataiter.next()\n",
        "\n",
        "# show images\n",
        "imshow(torchvision.utils.make_grid(images))\n",
        "# print labels\n",
        "print(' '.join(f'{classes[labels[j]]:5s}' for j in range(batch_size)))"
      ]
    },
    {
      "cell_type": "markdown",
      "metadata": {
        "id": "jlo5DMowbXMb"
      },
      "source": [
        "### 2. Definir una red neuronal convolucional\n",
        "Copie la red neuronal de la sección Redes neuronales anterior y modifíquela para\n",
        "tomar imágenes de 3 canales (en lugar de imágenes de 1 canal como se definió).\n",
        "\n"
      ]
    },
    {
      "cell_type": "code",
      "execution_count": null,
      "metadata": {
        "id": "3npMJmtfbXMd"
      },
      "outputs": [],
      "source": [
        "import torch.nn as nn\n",
        "import torch.nn.functional as F\n",
        "\n",
        "\n",
        "class Net(nn.Module):\n",
        "    def __init__(self):\n",
        "        super().__init__()\n",
        "        self.conv1 = nn.Conv2d(3, 6, 5)\n",
        "        self.pool = nn.MaxPool2d(2, 2)\n",
        "        self.conv2 = nn.Conv2d(6, 16, 5)\n",
        "        self.fc1 = nn.Linear(16 * 5 * 5, 120)\n",
        "        self.fc2 = nn.Linear(120, 84)\n",
        "        self.fc3 = nn.Linear(84, 10)\n",
        "\n",
        "    def forward(self, x):\n",
        "        x = self.pool(F.relu(self.conv1(x)))\n",
        "        x = self.pool(F.relu(self.conv2(x)))\n",
        "        x = torch.flatten(x, 1) # flatten all dimensions except batch\n",
        "        x = F.relu(self.fc1(x))\n",
        "        x = F.relu(self.fc2(x))\n",
        "        x = self.fc3(x)\n",
        "        return x\n",
        "\n",
        "\n",
        "net = Net()"
      ]
    },
    {
      "cell_type": "markdown",
      "metadata": {
        "id": "0AgdzUbYbXMf"
      },
      "source": [
        "### 3. Definir una función de pérdida y un optimizador\n",
        "Usemos una pérdida de entropía cruzada de clasificación y SGD con momentum.\n",
        "\n"
      ]
    },
    {
      "cell_type": "code",
      "execution_count": null,
      "metadata": {
        "id": "VgYfw6mybXMg"
      },
      "outputs": [],
      "source": [
        "import torch.optim as optim\n",
        "\n",
        "criterion = nn.CrossEntropyLoss()\n",
        "optimizer = optim.SGD(net.parameters(), lr=0.001, momentum=0.9)"
      ]
    },
    {
      "cell_type": "markdown",
      "metadata": {
        "id": "9fLH60ALbXMi"
      },
      "source": [
        "### 4. Entrenar a la red\n",
        "\n",
        "Esto es cuando las cosas comienzan a ponerse interesantes.\n",
        "Simplemente tenemos que recorrer nuestro iterador de datos y alimentar las entradas al\n",
        "red y optimizar.\n",
        "\n"
      ]
    },
    {
      "cell_type": "code",
      "execution_count": null,
      "metadata": {
        "id": "1loaVrTibXMj"
      },
      "outputs": [],
      "source": [
        "for epoch in range(2):  # loop over the dataset multiple times\n",
        "\n",
        "    running_loss = 0.0\n",
        "    for i, data in enumerate(trainloader, 0):\n",
        "        # get the inputs; data is a list of [inputs, labels]\n",
        "        inputs, labels = data\n",
        "\n",
        "        # zero the parameter gradients\n",
        "        optimizer.zero_grad()\n",
        "\n",
        "        # forward + backward + optimize\n",
        "        outputs = net(inputs)\n",
        "        loss = criterion(outputs, labels)\n",
        "        loss.backward()\n",
        "        optimizer.step()\n",
        "\n",
        "        # print statistics\n",
        "        running_loss += loss.item()\n",
        "        if i % 2000 == 1999:    # print every 2000 mini-batches\n",
        "            print(f'[{epoch + 1}, {i + 1:5d}] loss: {running_loss / 2000:.3f}')\n",
        "            running_loss = 0.0\n",
        "\n",
        "print('Finished Training')"
      ]
    },
    {
      "cell_type": "markdown",
      "metadata": {
        "id": "lysXL3MHbXMk"
      },
      "source": [
        "Guardemos rápidamente nuestro modelo entrenado:\n",
        "\n"
      ]
    },
    {
      "cell_type": "code",
      "execution_count": null,
      "metadata": {
        "id": "ZptdWLL1bXMl"
      },
      "outputs": [],
      "source": [
        "PATH = './cifar_net.pth'\n",
        "torch.save(net.state_dict(), PATH)"
      ]
    },
    {
      "cell_type": "markdown",
      "metadata": {
        "id": "kfJA6RZWbXMm"
      },
      "source": [
        "Ver [aquí](https://pytorch.org/docs/stable/notes/serialization.html)\n",
        "para obtener más detalles sobre cómo guardar modelos de PyTorch.\n",
        "\n",
        "### 5. Pruebe la red con los datos de prueba\n",
        "\n",
        "Hemos entrenado la red para 2 pases sobre el conjunto de datos de entrenamiento.\n",
        "Pero necesitamos verificar si la red ha aprendido algo.\n",
        "\n",
        "Verificaremos esto prediciendo la etiqueta de clase que la red neuronal\n",
        "salidas, y comprobarlo contra la verdad de tierra. Si la predicción es\n",
        "correcto, agregamos la muestra a la lista de predicciones correctas.\n",
        "\n",
        "Bien, primer paso. Mostremos una imagen del conjunto de prueba para familiarizarnos."
      ]
    },
    {
      "cell_type": "code",
      "execution_count": null,
      "metadata": {
        "id": "Vd4yQ4lXbXMn"
      },
      "outputs": [],
      "source": [
        "dataiter = iter(testloader)\n",
        "images, labels = dataiter.next()\n",
        "\n",
        "# print images\n",
        "imshow(torchvision.utils.make_grid(images))\n",
        "print('GroundTruth: ', ' '.join(f'{classes[labels[j]]:5s}' for j in range(4)))"
      ]
    },
    {
      "cell_type": "markdown",
      "metadata": {
        "id": "kjbcpO95bXMn"
      },
      "source": [
        "A continuación, volvamos a cargar en nuestro modelo guardado (nota: guardar y volver a cargar el modelo no fue necesario aquí, solo lo hicimos para ilustrar cómo hacerlo):"
      ]
    },
    {
      "cell_type": "code",
      "execution_count": null,
      "metadata": {
        "id": "lSHyOIBcbXMo"
      },
      "outputs": [],
      "source": [
        "net = Net()\n",
        "net.load_state_dict(torch.load(PATH))"
      ]
    },
    {
      "cell_type": "markdown",
      "metadata": {
        "id": "CR9UcM0ibXMp"
      },
      "source": [
        "Bien, ahora veamos qué piensa la red neuronal de estos ejemplos anteriores:"
      ]
    },
    {
      "cell_type": "code",
      "execution_count": null,
      "metadata": {
        "id": "_lnxLUnbbXMq"
      },
      "outputs": [],
      "source": [
        "outputs = net(images)"
      ]
    },
    {
      "cell_type": "markdown",
      "metadata": {
        "id": "-1ZT1rj5bXMq"
      },
      "source": [
        "Las salidas son energías para las 10 clases.\n",
        "Cuanto mayor sea la energía para una clase, mayor será la red\n",
        "piensa que la imagen es de la clase particular.\n",
        "Entonces, obtengamos el índice del score más alto:\n",
        "\n"
      ]
    },
    {
      "cell_type": "code",
      "execution_count": null,
      "metadata": {
        "id": "wy8uvqs4bXMs"
      },
      "outputs": [],
      "source": [
        "_, predicted = torch.max(outputs, 1)\n",
        "\n",
        "print('Predicted: ', ' '.join(f'{classes[predicted[j]]:5s}'\n",
        "                              for j in range(4)))"
      ]
    },
    {
      "cell_type": "markdown",
      "metadata": {
        "id": "BQAT0pGXbXMt"
      },
      "source": [
        "Los resultados parecen bastante buenos.\n",
        "\n",
        "Veamos cómo funciona la red en todo el conjunto de datos."
      ]
    },
    {
      "cell_type": "code",
      "execution_count": null,
      "metadata": {
        "id": "TMvg-GcybXMt"
      },
      "outputs": [],
      "source": [
        "correct = 0\n",
        "total = 0\n",
        "# since we're not training, we don't need to calculate the gradients for our outputs\n",
        "with torch.no_grad():\n",
        "    for data in testloader:\n",
        "        images, labels = data\n",
        "        # calculate outputs by running images through the network\n",
        "        outputs = net(images)\n",
        "        # the class with the highest energy is what we choose as prediction\n",
        "        _, predicted = torch.max(outputs.data, 1)\n",
        "        total += labels.size(0)\n",
        "        correct += (predicted == labels).sum().item()\n",
        "\n",
        "print(f'Accuracy of the network on the 10000 test images: {100 * correct // total} %')"
      ]
    },
    {
      "cell_type": "markdown",
      "metadata": {
        "id": "8UEB2F2xbXMu"
      },
      "source": [
        "Eso se ve mucho mejor que el azar, que es un 10% de precisión (elegir una clase al azar entre 10 clases).\n",
        "Parece que la red aprendió algo.\n",
        "\n",
        "Hmmm, ¿cuáles son las clases que funcionaron bien y las clases que no funcionaron bien?"
      ]
    },
    {
      "cell_type": "code",
      "execution_count": null,
      "metadata": {
        "id": "alq74mThbXMv"
      },
      "outputs": [],
      "source": [
        "# prepare to count predictions for each class\n",
        "correct_pred = {classname: 0 for classname in classes}\n",
        "total_pred = {classname: 0 for classname in classes}\n",
        "\n",
        "# again no gradients needed\n",
        "with torch.no_grad():\n",
        "    for data in testloader:\n",
        "        images, labels = data\n",
        "        outputs = net(images)\n",
        "        _, predictions = torch.max(outputs, 1)\n",
        "        # collect the correct predictions for each class\n",
        "        for label, prediction in zip(labels, predictions):\n",
        "            if label == prediction:\n",
        "                correct_pred[classes[label]] += 1\n",
        "            total_pred[classes[label]] += 1\n",
        "\n",
        "\n",
        "# print accuracy for each class\n",
        "for classname, correct_count in correct_pred.items():\n",
        "    accuracy = 100 * float(correct_count) / total_pred[classname]\n",
        "    print(f'Accuracy for class: {classname:5s} is {accuracy:.1f} %')"
      ]
    },
    {
      "cell_type": "markdown",
      "metadata": {
        "id": "sS13GS0NbXMw"
      },
      "source": [
        "Bien, ¿y ahora qué?\n",
        "\n",
        "¿Cómo ejecutamos estas redes neuronales en la GPU?\n",
        "\n",
        "## Entrenamiento en GPU\n",
        "Al igual que transfiere un tensor a la GPU, transfiere la red neuronal a la GPU.\n",
        "\n",
        "Primero definamos nuestro dispositivo como el primer dispositivo cuda visible si tenemos\n",
        "CUDA disponible:"
      ]
    },
    {
      "cell_type": "code",
      "execution_count": null,
      "metadata": {
        "id": "a8NurhMfbXMx"
      },
      "outputs": [],
      "source": [
        "device = torch.device('cuda:0' if torch.cuda.is_available() else 'cpu')\n",
        "\n",
        "# Assuming that we are on a CUDA machine, this should print a CUDA device:\n",
        "\n",
        "print(device)"
      ]
    },
    {
      "cell_type": "markdown",
      "metadata": {
        "id": "NkLSLc68bXMy"
      },
      "source": [
        "El resto de esta sección asume que ``dispositivo`` es un dispositivo CUDA.\n",
        "\n",
        "Luego, estos métodos revisarán recursivamente todos los módulos y convertirán sus\n",
        "parámetros y buffers a los tensores CUDA:\n",
        "\n",
        "```python\n",
        "net.to(dispositivo)\n",
        "```\n",
        "\n",
        "\n",
        "Recuerda que tendrás que enviar las entradas y los objetivos en cada paso\n",
        "a la GPU también:\n",
        "\n",
        "```python\n",
        "entradas, etiquetas = datos[0].to(dispositivo), datos[1].to(dispositivo)\n",
        "```\n",
        "\n",
        "¿Por qué no noto una aceleración MASIVA en comparación con la CPU? porque tu red\n",
        "es realmente pequeño\n",
        "\n",
        "**Ejercicio:** Intente aumentar el ancho de su red (argumento 2 de\n",
        "el primer ``nn.Conv2d``, y el argumento 1 del segundo ``nn.Conv2d`` –\n",
        "deben ser el mismo número), vea qué tipo de aceleración obtiene.\n",
        "\n",
        "**Metas cumplidas**:\n",
        "\n",
        "- Comprender la biblioteca PyTorch y las redes neuronales a un alto nivel.\n",
        "- Entrena una pequeña red neuronal para clasificar imágenes\n",
        "\n",
        "## ¿Adónde voy después?\n",
        "\n",
        "- `Entrenar una red ResNet de última generación en imagenet`\n",
        "- `Entrena un generador de caras usando Generative Adversarial Networks`\n",
        "- `Entrenar un modelo de lenguaje a nivel de palabra usando redes LSTM recurrentes`\n",
        "- `Más ejemplos`\n",
        "- `Más tutoriales`\n",
        "- `Discutir PyTorch en los foros`\n",
        "- `Chatea con otros usuarios en Slack`"
      ]
    },
    {
      "cell_type": "code",
      "execution_count": null,
      "metadata": {
        "id": "GUPnbSOtbXMz"
      },
      "outputs": [],
      "source": [
        "del dataiter"
      ]
    }
  ],
  "metadata": {
    "colab": {
      "provenance": []
    },
    "kernelspec": {
      "display_name": "Python 3.6.10 ('Pytorch')",
      "language": "python",
      "name": "python3"
    },
    "language_info": {
      "codemirror_mode": {
        "name": "ipython",
        "version": 3
      },
      "file_extension": ".py",
      "mimetype": "text/x-python",
      "name": "python",
      "nbconvert_exporter": "python",
      "pygments_lexer": "ipython3",
      "version": "3.6.10"
    },
    "vscode": {
      "interpreter": {
        "hash": "906483a5c73e38fafc4366ed4a3ebd5c80c0dbc176780d456ef3eb7b0063d47a"
      }
    }
  },
  "nbformat": 4,
  "nbformat_minor": 0
}
