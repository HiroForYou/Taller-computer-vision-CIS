{
  "cells": [
    {
      "cell_type": "code",
      "execution_count": null,
      "metadata": {
        "id": "6q8AEz3hb5zH"
      },
      "outputs": [],
      "source": [
        "%matplotlib inline"
      ]
    },
    {
      "cell_type": "markdown",
      "metadata": {
        "id": "HvG87pwXb5zQ"
      },
      "source": [
        "# Redes neuronales\n",
        "\n",
        "Las redes neuronales se pueden construir usando el paquete ``torch.nn``.\n",
        "\n",
        "Ahora que tuvo una idea de ``autograd``, ``nn`` depende de\n",
        "``autograd`` para definir modelos y diferenciarlos.\n",
        "Un ``nn.Module`` contiene capas y un método ``forward(input)`` que\n",
        "devuelve la ``salida``.\n",
        "\n",
        "Por ejemplo, mira esta red que clasifica imágenes de dígitos:\n",
        "\n",
        "![](./assets/lenet.png)\n",
        "\n",
        "Se trata de una simple red feed-forward. Toma la entrada, la alimenta\n",
        "a través de varias capas una tras otra, y finalmente genera una predicción.\n",
        "\n",
        "Un procedimiento de entrenamiento típico para una red neuronal es el siguiente:\n",
        "\n",
        "- Definir la red neuronal que tiene algunos parámetros aprendibles (o\n",
        "  pesos)\n",
        "- Iterar sobre un conjunto de datos de entradas\n",
        "- Proceso de entrada a través de la red\n",
        "- Calcule la pérdida (qué tan lejos está la salida de ser correcta)\n",
        "- Propaga los gradientes de vuelta a los parámetros de la red\n",
        "- Actualice los pesos de la red, generalmente usando una regla de actualización simple:\n",
        "  ``peso = peso - tasa_de_aprendizaje * gradiente``\n",
        "\n",
        "## Definir la red\n",
        "\n",
        "Definamos esta red:"
      ]
    },
    {
      "cell_type": "code",
      "execution_count": null,
      "metadata": {
        "id": "PQTtwFyZb5zW"
      },
      "outputs": [],
      "source": [
        "import torch\n",
        "import torch.nn as nn\n",
        "import torch.nn.functional as F\n",
        "\n",
        "\n",
        "class Net(nn.Module):\n",
        "\n",
        "    def __init__(self):\n",
        "        super(Net, self).__init__()\n",
        "        # 1 input image channel, 6 output channels, 5x5 square convolution\n",
        "        # kernel\n",
        "        self.conv1 = nn.Conv2d(1, 6, 5)\n",
        "        self.conv2 = nn.Conv2d(6, 16, 5)\n",
        "        # an affine operation: y = Wx + b\n",
        "        self.fc1 = nn.Linear(16 * 5 * 5, 120)  # 5*5 from image dimension \n",
        "        self.fc2 = nn.Linear(120, 84)\n",
        "        self.fc3 = nn.Linear(84, 10)\n",
        "\n",
        "    def forward(self, x):\n",
        "        # Max pooling over a (2, 2) window\n",
        "        x = F.max_pool2d(F.relu(self.conv1(x)), (2, 2))\n",
        "        # If the size is a square, you can specify with a single number\n",
        "        x = F.max_pool2d(F.relu(self.conv2(x)), 2)\n",
        "        x = torch.flatten(x, 1) # flatten all dimensions except the batch dimension\n",
        "        x = F.relu(self.fc1(x))\n",
        "        x = F.relu(self.fc2(x))\n",
        "        x = self.fc3(x)\n",
        "        return x\n",
        "\n",
        "\n",
        "net = Net()\n",
        "print(net)"
      ]
    },
    {
      "cell_type": "markdown",
      "metadata": {
        "id": "aiY9yd_Vb5zY"
      },
      "source": [
        "Solo tienes que definir la función ``forward``, y la función ``backward``\n",
        "(donde se calculan los gradientes) se define automáticamente usando ``autograd``.\n",
        "Puede usar cualquiera de las operaciones de Tensor en la función ``forward``.\n",
        "\n",
        "Los parámetros que se pueden aprender de un modelo son devueltos por ``net.parameters()``\n",
        "\n"
      ]
    },
    {
      "cell_type": "code",
      "execution_count": null,
      "metadata": {
        "id": "qJ-A5cRTb5za"
      },
      "outputs": [],
      "source": [
        "params = list(net.parameters())\n",
        "print(len(params))\n",
        "print(params[0].size())  # conv1's .weight"
      ]
    },
    {
      "cell_type": "markdown",
      "metadata": {
        "id": "r6Kk-VT-b5zb"
      },
      "source": [
        "Probemos una entrada aleatoria de 32x32.\n",
        "Nota: el tamaño de entrada esperado de esta red (LeNet) es 32x32. Para usar esta red en\n",
        "el conjunto de datos MNIST, cambie el tamaño de las imágenes del conjunto de datos a 32x32.\n",
        "\n"
      ]
    },
    {
      "cell_type": "code",
      "execution_count": null,
      "metadata": {
        "id": "oeA0vh9cb5zc"
      },
      "outputs": [],
      "source": [
        "input = torch.randn(1, 1, 32, 32)\n",
        "out = net(input)\n",
        "print(out)"
      ]
    },
    {
      "cell_type": "markdown",
      "metadata": {
        "id": "Cy3rOZ4hb5ze"
      },
      "source": [
        "Ponemos en cero los búferes de gradiente de todos los parámetros y backprops con gradientes aleatorios:\n"
      ]
    },
    {
      "cell_type": "code",
      "execution_count": null,
      "metadata": {
        "id": "2XiHKSCIb5zg"
      },
      "outputs": [],
      "source": [
        "net.zero_grad()\n",
        "out.backward(torch.randn(1, 10))"
      ]
    },
    {
      "cell_type": "markdown",
      "metadata": {
        "id": "OZABFushb5zi"
      },
      "source": [
        "<div class=\"alert alert-info\"><h4>Nota:</h4>\n",
        "<p>\n",
        "\n",
        "``torch.nn`` solo admite minilotes. Todo el paquete ``torch.nn`` solo admite entradas que son un mini lote de muestras, y no una sola muestra.\n",
        "Por ejemplo, ``nn.Conv2d`` tomará un tensor 4D de ``nMuestras x nCanales x Alto x Ancho``.\n",
        "Si tiene una sola muestra, simplemente use ``input.unsqueeze(0)`` para agregar\n",
        "    una dimensión de lote falsa.\n",
        "</p></div>\n",
        "\n",
        "**En este punto, cubrimos:**\n",
        "  - Definición de una red neuronal\n",
        "  - Procesamiento de entradas y llamadas hacia atrás.\n",
        "\n",
        "**Aún quedan:**\n",
        "  - Cálculo de la pérdida\n",
        "  - Actualización de los pesos de la red.\n",
        "\n",
        "## Función de pérdida\n",
        "Una función de pérdida toma el par de entradas (salida, objetivo) y calcula una\n",
        "valor que estima qué tan lejos está la salida del objetivo.\n",
        "\n",
        "Hay varios diferentes [funciones de pérdida](https://pytorch.org/docs/nn.html#loss-functions) bajo el\n",
        "paquete ``nn``.\n",
        "Una pérdida simple es: ``nn.MSELoss`` que calcula el error cuadrático medio\n",
        "entre la salida y el destino.\n",
        "\n",
        "Por ejemplo:"
      ]
    },
    {
      "cell_type": "code",
      "execution_count": null,
      "metadata": {
        "id": "CWrhGzoFb5zk"
      },
      "outputs": [],
      "source": [
        "output = net(input)\n",
        "target = torch.randn(10)  # a dummy target, for example\n",
        "target = target.view(1, -1)  # make it the same shape as output\n",
        "criterion = nn.MSELoss()\n",
        "\n",
        "loss = criterion(output, target)\n",
        "print(loss)"
      ]
    },
    {
      "cell_type": "markdown",
      "metadata": {
        "id": "VqjmfMb9b5zl"
      },
      "source": [
        "Ahora, si sigues ``loss`` en dirección hacia atrás, usando su\n",
        "atributo ``.grad_fn``, verá un gráfico de cálculos que parece\n",
        "como esto:\n",
        "\n",
        ":: \n",
        "\n",
        "    entrada -> conv2d -> relu -> maxpool2d -> conv2d -> relu -> maxpool2d\n",
        "           -> aplanar -> lineal -> relu -> lineal -> relu -> lineal\n",
        "           -> Pérdida de MSEL\n",
        "           -> pérdida\n",
        "\n",
        "Entonces, cuando llamamos a ``loss.backward()``, todo el gráfico se diferencia\n",
        "w.r.t. los parámetros de la red neuronal y todos los tensores en el gráfico que tienen\n",
        "``requires_grad=True`` tendrá su Tensor ``.grad`` acumulado con el gradiente.\n",
        "\n",
        "A modo de ilustración, sigamos unos pasos hacia atrás:"
      ]
    },
    {
      "cell_type": "code",
      "execution_count": null,
      "metadata": {
        "id": "FkAQslfrb5zm"
      },
      "outputs": [],
      "source": [
        "print(loss.grad_fn)  # MSELoss\n",
        "print(loss.grad_fn.next_functions[0][0])  # Linear\n",
        "print(loss.grad_fn.next_functions[0][0].next_functions[0][0])  # ReLU"
      ]
    },
    {
      "cell_type": "markdown",
      "metadata": {
        "id": "JCDQQWgzb5zn"
      },
      "source": [
        "## Backprop\n",
        "Para retropropagar el error todo lo que tenemos que hacer es ``loss.backward()``.\n",
        "Sin embargo, debe borrar los gradientes existentes, de lo contrario, los gradientes serán\n",
        "acumulados a los gradientes existentes.\n",
        "\n",
        "\n",
        "Ahora llamaremos a ``loss.backward()``, y echaremos un vistazo al sesgo de conv1\n",
        "gradientes antes y después del retroceso.\n",
        "\n"
      ]
    },
    {
      "cell_type": "code",
      "execution_count": null,
      "metadata": {
        "id": "_xQ6UGgsb5zn"
      },
      "outputs": [],
      "source": [
        "net.zero_grad()     # zeroes the gradient buffers of all parameters\n",
        "\n",
        "print('conv1.bias.grad before backward')\n",
        "print(net.conv1.bias.grad)\n",
        "\n",
        "loss.backward()\n",
        "\n",
        "print('conv1.bias.grad after backward')\n",
        "print(net.conv1.bias.grad)"
      ]
    },
    {
      "cell_type": "markdown",
      "metadata": {
        "id": "kqcdMmXQb5zo"
      },
      "source": [
        "Ahora, hemos visto cómo usar las funciones de pérdida.\n",
        "\n",
        "**Leer más tarde:**\n",
        "\n",
        "   El paquete de red neuronal contiene varios módulos y funciones de pérdida\n",
        "   que forman los componentes básicos de las redes neuronales profundas. Una lista completa con\n",
        "   la documentación está [aquí](https://pytorch.org/docs/nn).\n",
        "\n",
        "**Lo único que queda por aprender es:**\n",
        "\n",
        "   - Actualización de los pesos de la red.\n",
        "\n",
        "## Actualizar los pesos\n",
        "La regla de actualización más simple utilizada en la práctica es el Descenso de gradiente estocástico (SGD):\n",
        "\n",
        "``peso = peso - tasa_de_aprendizaje * gradiente``\n",
        "\n",
        "Podemos implementar esto usando código Python simple:\n",
        "\n",
        "```python\n",
        "\n",
        "     tasa_de_aprendizaje = 0.01\n",
        "     for f in net.parameters():\n",
        "         f.data.sub_(f.grad.data * tasa_de_aprendizaje)\n",
        "```\n",
        "\n",
        "Sin embargo, a medida que usa redes neuronales, desea usar varios\n",
        "actualizar reglas como SGD, Nesterov-SGD, Adam, RMSProp, etc.\n",
        "Para habilitar esto, existe un pequeño paquete: ``torch.optim`` que\n",
        "implementa todos estos métodos. Usarlo es muy simple:"
      ]
    },
    {
      "cell_type": "code",
      "execution_count": null,
      "metadata": {
        "id": "HZHYWpUCb5zp"
      },
      "outputs": [],
      "source": [
        "import torch.optim as optim\n",
        "\n",
        "# create your optimizer\n",
        "optimizer = optim.SGD(net.parameters(), lr=0.01)\n",
        "\n",
        "# in your training loop:\n",
        "optimizer.zero_grad()   # zero the gradient buffers\n",
        "output = net(input)\n",
        "loss = criterion(output, target)\n",
        "loss.backward()\n",
        "optimizer.step()    # Does the update"
      ]
    }
  ],
  "metadata": {
    "colab": {
      "provenance": []
    },
    "kernelspec": {
      "display_name": "Python 3.6.10 ('Pytorch')",
      "language": "python",
      "name": "python3"
    },
    "language_info": {
      "codemirror_mode": {
        "name": "ipython",
        "version": 3
      },
      "file_extension": ".py",
      "mimetype": "text/x-python",
      "name": "python",
      "nbconvert_exporter": "python",
      "pygments_lexer": "ipython3",
      "version": "3.6.10"
    },
    "vscode": {
      "interpreter": {
        "hash": "906483a5c73e38fafc4366ed4a3ebd5c80c0dbc176780d456ef3eb7b0063d47a"
      }
    }
  },
  "nbformat": 4,
  "nbformat_minor": 0
}
